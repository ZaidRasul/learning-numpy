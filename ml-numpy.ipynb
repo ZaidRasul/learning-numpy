{
 "cells": [
  {
   "cell_type": "markdown",
   "id": "bd961544",
   "metadata": {},
   "source": [
    "# A file for functions  of numpy library\n",
    "(Note: These are all simple implementations)\n"
   ]
  },
  {
   "cell_type": "code",
   "execution_count": 2,
   "id": "43f1258a",
   "metadata": {},
   "outputs": [
    {
     "name": "stdout",
     "output_type": "stream",
     "text": [
      "[1 2 3 4]\n",
      "[[1 2]\n",
      " [3 4]]\n"
     ]
    }
   ],
   "source": [
    "# import numpy as np so that we can use it to create and manipulate arrays\n",
    "import numpy as np\n",
    "\n",
    "# Create a 1D array\n",
    "arr = np.array([1, 2, 3, 4])\n",
    "print(arr)\n",
    "\n",
    "# Create a 2D array\n",
    "matrix = np.array([[1, 2], [3, 4]])\n",
    "print(matrix)\n"
   ]
  },
  {
   "cell_type": "code",
   "execution_count": null,
   "id": "a127290d",
   "metadata": {},
   "outputs": [],
   "source": []
  },
  {
   "cell_type": "code",
   "execution_count": 3,
   "id": "2bd05f1c",
   "metadata": {},
   "outputs": [
    {
     "name": "stdout",
     "output_type": "stream",
     "text": [
      "[5 7 9]\n",
      "[ 4 10 18]\n",
      "[1 4 9]\n",
      "[ 64 125 216]\n"
     ]
    }
   ],
   "source": [
    "a = np.array([1, 2, 3])\n",
    "b = np.array([4, 5, 6])\n",
    "\n",
    "print(a + b)        # element-wise addition\n",
    "print(a * b)        # element-wise multiplication\n",
    "print(a ** 2)       # element-wise square\n",
    "print(b ** 3)       # element-wise cube"
   ]
  },
  {
   "cell_type": "code",
   "execution_count": null,
   "id": "1a22695b",
   "metadata": {},
   "outputs": [
    {
     "name": "stdout",
     "output_type": "stream",
     "text": [
      "3.0\n",
      "3.0\n",
      "1.4142135623730951\n",
      "15\n"
     ]
    }
   ],
   "source": []
  },
  {
   "cell_type": "code",
   "execution_count": 6,
   "id": "e5896fe1",
   "metadata": {},
   "outputs": [
    {
     "name": "stdout",
     "output_type": "stream",
     "text": [
      "3.5\n",
      "3.5\n",
      "1.707825127659933\n",
      "21\n"
     ]
    }
   ],
   "source": [
    "\n",
    "\n",
    "\n",
    "print(np.mean(arr))   # average\n",
    "print(np.median(arr))\n",
    "print(np.std(arr))    # standard deviation\n",
    "print(np.sum(arr))    # total sum\n"
   ]
  },
  {
   "cell_type": "code",
   "execution_count": 5,
   "id": "44130504",
   "metadata": {},
   "outputs": [
    {
     "name": "stdout",
     "output_type": "stream",
     "text": [
      "(2, 3)\n",
      "[[1 2]\n",
      " [3 4]\n",
      " [5 6]]\n",
      "[1 2 3 4 5 6]\n"
     ]
    }
   ],
   "source": [
    "arr = np.array([[1, 2, 3], [4, 5, 6]])\n",
    "\n",
    "print(arr.shape)             # (2, 3)\n",
    "print(arr.reshape(3, 2))     # reshape to (3, 2)\n",
    "print(arr.flatten())         # convert to 1D: [1 2 3 4 5 6]\n",
    "\n"
   ]
  },
  {
   "cell_type": "code",
   "execution_count": 7,
   "id": "3e9311ed",
   "metadata": {},
   "outputs": [
    {
     "name": "stdout",
     "output_type": "stream",
     "text": [
      "[[1 2]\n",
      " [3 4]\n",
      " [5 6]\n",
      " [7 8]]\n",
      "[[1 2 5 6]\n",
      " [3 4 7 8]]\n",
      "[[1 2]\n",
      " [3 4]\n",
      " [5 6]\n",
      " [7 8]]\n"
     ]
    }
   ],
   "source": [
    "a = np.array([[1, 2], [3, 4]])\n",
    "b = np.array([[5, 6], [7, 8]])\n",
    "\n",
    "print(np.vstack((a, b)))   # vertical stack (4 rows)\n",
    "print(np.hstack((a, b)))   # horizontal stack (4 columns)\n",
    "print(np.concatenate((a, b), axis=0))  # same as vstack\n"
   ]
  },
  {
   "cell_type": "code",
   "execution_count": 8,
   "id": "a06989da",
   "metadata": {},
   "outputs": [
    {
     "name": "stdout",
     "output_type": "stream",
     "text": [
      "[[11 22 33]\n",
      " [14 25 36]]\n"
     ]
    }
   ],
   "source": [
    "a = np.array([[1, 2, 3], [4, 5, 6]])\n",
    "b = np.array([10, 20, 30])\n",
    "\n",
    "print(a + b)\n"
   ]
  },
  {
   "cell_type": "code",
   "execution_count": 9,
   "id": "6670997b",
   "metadata": {},
   "outputs": [
    {
     "name": "stdout",
     "output_type": "stream",
     "text": [
      "[30 40 50]\n",
      "[10 20 99 99 99]\n"
     ]
    }
   ],
   "source": [
    "arr = np.array([10, 20, 30, 40, 50])\n",
    "\n",
    "# Get all elements greater than 25\n",
    "print(arr[arr > 25])\n",
    "\n",
    "# Replace values\n",
    "arr[arr > 25] = 99\n",
    "print(arr)\n"
   ]
  },
  {
   "cell_type": "markdown",
   "id": "84e7a3a5",
   "metadata": {},
   "source": [
    "Random number generation can be done with numpy as follows"
   ]
  },
  {
   "cell_type": "code",
   "execution_count": null,
   "id": "5ff650b7",
   "metadata": {},
   "outputs": [
    {
     "name": "stdout",
     "output_type": "stream",
     "text": [
      "[0.37454012 0.95071431 0.73199394]\n",
      "[4 6 9 2 6]\n",
      "[[ 1.57921282  0.76743473 -0.46947439]\n",
      " [ 0.54256004 -0.46341769 -0.46572975]]\n"
     ]
    }
   ],
   "source": [
    "np.random.seed(42)                # reproducible results\n",
    "\n",
    "print(np.random.rand(3))          # 3 random floats [0,1)\n",
    "print(np.random.randint(0, 10, 5))  # 5 random integers [0,10)\n",
    "\n",
    "# Random normal distribution\n",
    "print(np.random.normal(loc=0, scale=1, size=(2, 3))) # loc = mean, scale = std dev, size = shape of matrix\n"
   ]
  },
  {
   "cell_type": "markdown",
   "id": "b80f4b4b",
   "metadata": {},
   "source": [
    "argmax gives the index of max value in array"
   ]
  },
  {
   "cell_type": "markdown",
   "id": "37597696",
   "metadata": {},
   "source": [
    "argmin gives the index of min value in array"
   ]
  },
  {
   "cell_type": "code",
   "execution_count": 11,
   "id": "ab9cedf2",
   "metadata": {},
   "outputs": [
    {
     "name": "stdout",
     "output_type": "stream",
     "text": [
      "3\n",
      "2\n"
     ]
    }
   ],
   "source": [
    "arr = np.array([10, 20, 5, 40])\n",
    "print(np.argmax(arr))  # index of max → 3\n",
    "print(np.argmin(arr))  # index of min → 2\n"
   ]
  },
  {
   "cell_type": "markdown",
   "id": "aa79fa39",
   "metadata": {},
   "source": [
    "basic dot product\n"
   ]
  },
  {
   "cell_type": "code",
   "execution_count": 12,
   "id": "2342c71d",
   "metadata": {},
   "outputs": [
    {
     "name": "stdout",
     "output_type": "stream",
     "text": [
      "[[19 22]\n",
      " [43 50]]\n",
      "[[19 22]\n",
      " [43 50]]\n"
     ]
    }
   ],
   "source": [
    "A = np.array([[1, 2], [3, 4]])\n",
    "B = np.array([[5, 6], [7, 8]])\n",
    "\n",
    "print(np.dot(A, B))     # matrix multiplication\n",
    "print(A @ B)            # same as dot product\n"
   ]
  },
  {
   "cell_type": "markdown",
   "id": "167768a3",
   "metadata": {},
   "source": [
    "numpy can give mean, deviation and variance as follows"
   ]
  },
  {
   "cell_type": "code",
   "execution_count": 6,
   "id": "611f793f",
   "metadata": {},
   "outputs": [
    {
     "name": "stdout",
     "output_type": "stream",
     "text": [
      "Mean = 260.2\n",
      "median =  234.0\n",
      "deviation =  152.01631491389338\n",
      "variance =  23108.96\n"
     ]
    }
   ],
   "source": [
    "arr = np.array([197, 234, 330, 40, 500])\n",
    "print(\"Mean =\", np.mean(arr))  # mean\n",
    "print(\"median = \", np.median(arr))  # median\n",
    "print(\"deviation = \", np.std(arr))  # standard deviation\n",
    "print(\"variance = \", np.var(arr))  # variance"
   ]
  },
  {
   "cell_type": "markdown",
   "id": "760de08e",
   "metadata": {},
   "source": [
    "getting unique labels/ classes"
   ]
  },
  {
   "cell_type": "code",
   "execution_count": null,
   "id": "779ba7f0",
   "metadata": {},
   "outputs": [
    {
     "name": "stdout",
     "output_type": "stream",
     "text": [
      "[0 1 2]\n",
      "(array([0, 1, 2]), array([2, 3, 1]))\n"
     ]
    }
   ],
   "source": [
    "labels = np.array([0, 1, 0, 2, 1, 1])\n",
    "print(np.unique(labels))         # [0 1 2]\n",
    "print(np.unique(labels, return_counts=True))  \n",
    "#this funtions returns unique labels and their counts\n",
    "# (array([0, 1, 2]), array([2, 3, 1])\n",
    "\n"
   ]
  },
  {
   "cell_type": "markdown",
   "id": "320fd9c8",
   "metadata": {},
   "source": [
    "Vector magnitude\n",
    "Used in regularization, normalization, and similarity."
   ]
  },
  {
   "cell_type": "code",
   "execution_count": 8,
   "id": "afb6ff5f",
   "metadata": {},
   "outputs": [
    {
     "name": "stdout",
     "output_type": "stream",
     "text": [
      "5.0\n"
     ]
    }
   ],
   "source": [
    "vec = np.array([3, 4])\n",
    "print(np.linalg.norm(vec))   # Output: 5.0 (Euclidean norm)\n"
   ]
  },
  {
   "cell_type": "markdown",
   "id": "757f13a0",
   "metadata": {},
   "source": [
    "Limit values to a range\n",
    "Useful to handle outliers or bounded probabilities."
   ]
  },
  {
   "cell_type": "code",
   "execution_count": 9,
   "id": "b9b3cbc8",
   "metadata": {},
   "outputs": [
    {
     "name": "stdout",
     "output_type": "stream",
     "text": [
      "[0.  0.5 1.  1. ]\n"
     ]
    }
   ],
   "source": [
    "arr = np.array([-10, 0.5, 1.2, 5])\n",
    "print(np.clip(arr, 0, 1))  # Output: [0.  0.5 1.  1. ]\n"
   ]
  },
  {
   "cell_type": "markdown",
   "id": "7bfdc498",
   "metadata": {},
   "source": [
    "Covariance & Correlation"
   ]
  },
  {
   "cell_type": "code",
   "execution_count": 10,
   "id": "e7711d69",
   "metadata": {},
   "outputs": [
    {
     "name": "stdout",
     "output_type": "stream",
     "text": [
      "[[1. 1.]\n",
      " [1. 1.]]\n",
      "[[1. 1.]\n",
      " [1. 1.]]\n"
     ]
    }
   ],
   "source": [
    "x = np.array([1, 2, 3])\n",
    "y = np.array([5, 6, 7])\n",
    "\n",
    "print(np.cov(x, y))       # Covariance matrix\n",
    "print(np.corrcoef(x, y))  # Correlation matrix\n"
   ]
  },
  {
   "cell_type": "markdown",
   "id": "480f9269",
   "metadata": {},
   "source": [
    " Shuffle your dataset\n",
    "Used before train/test split to ensure randomness"
   ]
  },
  {
   "cell_type": "code",
   "execution_count": 11,
   "id": "3aa1db6b",
   "metadata": {},
   "outputs": [
    {
     "name": "stdout",
     "output_type": "stream",
     "text": [
      "[[3 4]\n",
      " [1 2]\n",
      " [5 6]]\n"
     ]
    }
   ],
   "source": [
    "arr = np.array([[1, 2], [3, 4], [5, 6]])\n",
    "np.random.shuffle(arr)\n",
    "print(arr)\n"
   ]
  },
  {
   "cell_type": "markdown",
   "id": "2819bcf4",
   "metadata": {},
   "source": [
    "Matrix math\n",
    "Used heavily in linear models, neural nets, etc.\n"
   ]
  },
  {
   "cell_type": "code",
   "execution_count": 12,
   "id": "462ad9f8",
   "metadata": {},
   "outputs": [
    {
     "name": "stdout",
     "output_type": "stream",
     "text": [
      "[[19 22]\n",
      " [43 50]]\n",
      "[[19 22]\n",
      " [43 50]]\n"
     ]
    }
   ],
   "source": [
    "a = np.array([[1, 2], [3, 4]])\n",
    "b = np.array([[5, 6], [7, 8]])\n",
    "\n",
    "print(np.dot(a, b))     # matrix multiplication\n",
    "print(np.matmul(a, b))  # same thing\n"
   ]
  },
  {
   "cell_type": "markdown",
   "id": "91186f45",
   "metadata": {},
   "source": [
    " Aggregate rows or columns"
   ]
  },
  {
   "cell_type": "code",
   "execution_count": 13,
   "id": "0ad16fd8",
   "metadata": {},
   "outputs": [
    {
     "name": "stdout",
     "output_type": "stream",
     "text": [
      "[5 7 9]\n",
      "[ 6 15]\n"
     ]
    }
   ],
   "source": [
    "arr = np.array([[1, 2, 3], [4, 5, 6]])\n",
    "\n",
    "print(np.sum(arr, axis=0))  # sum columns → [5 7 9]\n",
    "print(np.sum(arr, axis=1))  # sum rows → [6 15]\n"
   ]
  },
  {
   "cell_type": "markdown",
   "id": "9f7e1c30",
   "metadata": {},
   "source": [
    "Math functions\n",
    "Used in loss functions, activations (like softmax), etc."
   ]
  },
  {
   "cell_type": "code",
   "execution_count": 14,
   "id": "c7b751ff",
   "metadata": {},
   "outputs": [
    {
     "name": "stdout",
     "output_type": "stream",
     "text": [
      "[ 2.71828183  7.3890561  20.08553692]\n",
      "[0.         0.69314718 1.09861229]\n",
      "[1.         1.41421356 1.73205081]\n",
      "[1 4 9]\n"
     ]
    }
   ],
   "source": [
    "x = np.array([1, 2, 3])\n",
    "print(np.exp(x))     # e^x\n",
    "print(np.log(x))     # natural log\n",
    "print(np.sqrt(x))    # square root\n",
    "print(np.power(x, 2)) # square\n"
   ]
  },
  {
   "cell_type": "markdown",
   "id": "3415f9aa",
   "metadata": {},
   "source": [
    " Simulating ML data"
   ]
  },
  {
   "cell_type": "code",
   "execution_count": 15,
   "id": "c0600391",
   "metadata": {},
   "outputs": [],
   "source": [
    "X = np.random.randn(100, 5)  # 100 samples, 5 features\n",
    "y = np.random.randint(0, 2, 100)  # binary labels\n"
   ]
  }
 ],
 "metadata": {
  "kernelspec": {
   "display_name": "Python 3",
   "language": "python",
   "name": "python3"
  },
  "language_info": {
   "codemirror_mode": {
    "name": "ipython",
    "version": 3
   },
   "file_extension": ".py",
   "mimetype": "text/x-python",
   "name": "python",
   "nbconvert_exporter": "python",
   "pygments_lexer": "ipython3",
   "version": "3.12.3"
  }
 },
 "nbformat": 4,
 "nbformat_minor": 5
}
