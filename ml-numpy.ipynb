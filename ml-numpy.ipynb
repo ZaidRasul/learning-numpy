{
 "cells": [
  {
   "cell_type": "markdown",
   "id": "bd961544",
   "metadata": {},
   "source": [
    "# A file for functions  of numpy library\n"
   ]
  },
  {
   "cell_type": "code",
   "execution_count": 1,
   "id": "43f1258a",
   "metadata": {},
   "outputs": [
    {
     "name": "stdout",
     "output_type": "stream",
     "text": [
      "[1 2 3 4]\n",
      "[[1 2]\n",
      " [3 4]]\n"
     ]
    }
   ],
   "source": [
    "import numpy as np\n",
    "\n",
    "# Create a 1D array\n",
    "arr = np.array([1, 2, 3, 4])\n",
    "print(arr)\n",
    "\n",
    "# Create a 2D array\n",
    "matrix = np.array([[1, 2], [3, 4]])\n",
    "print(matrix)\n"
   ]
  },
  {
   "cell_type": "code",
   "execution_count": null,
   "id": "a127290d",
   "metadata": {},
   "outputs": [],
   "source": []
  },
  {
   "cell_type": "code",
   "execution_count": 3,
   "id": "2bd05f1c",
   "metadata": {},
   "outputs": [
    {
     "name": "stdout",
     "output_type": "stream",
     "text": [
      "[5 7 9]\n",
      "[ 4 10 18]\n",
      "[1 4 9]\n",
      "[ 64 125 216]\n"
     ]
    }
   ],
   "source": [
    "a = np.array([1, 2, 3])\n",
    "b = np.array([4, 5, 6])\n",
    "\n",
    "print(a + b)        # element-wise addition\n",
    "print(a * b)        # element-wise multiplication\n",
    "print(a ** 2)       # element-wise square\n",
    "print(b ** 3)       # element-wise cube"
   ]
  },
  {
   "cell_type": "code",
   "execution_count": null,
   "id": "1a22695b",
   "metadata": {},
   "outputs": [
    {
     "name": "stdout",
     "output_type": "stream",
     "text": [
      "3.0\n",
      "3.0\n",
      "1.4142135623730951\n",
      "15\n"
     ]
    }
   ],
   "source": []
  },
  {
   "cell_type": "code",
   "execution_count": 6,
   "id": "e5896fe1",
   "metadata": {},
   "outputs": [
    {
     "name": "stdout",
     "output_type": "stream",
     "text": [
      "3.5\n",
      "3.5\n",
      "1.707825127659933\n",
      "21\n"
     ]
    }
   ],
   "source": [
    "\n",
    "\n",
    "\n",
    "print(np.mean(arr))   # average\n",
    "print(np.median(arr))\n",
    "print(np.std(arr))    # standard deviation\n",
    "print(np.sum(arr))    # total sum\n"
   ]
  },
  {
   "cell_type": "code",
   "execution_count": 5,
   "id": "44130504",
   "metadata": {},
   "outputs": [
    {
     "name": "stdout",
     "output_type": "stream",
     "text": [
      "(2, 3)\n",
      "[[1 2]\n",
      " [3 4]\n",
      " [5 6]]\n",
      "[1 2 3 4 5 6]\n"
     ]
    }
   ],
   "source": [
    "arr = np.array([[1, 2, 3], [4, 5, 6]])\n",
    "\n",
    "print(arr.shape)             # (2, 3)\n",
    "print(arr.reshape(3, 2))     # reshape to (3, 2)\n",
    "print(arr.flatten())         # convert to 1D: [1 2 3 4 5 6]\n",
    "\n"
   ]
  },
  {
   "cell_type": "code",
   "execution_count": 7,
   "id": "3e9311ed",
   "metadata": {},
   "outputs": [
    {
     "name": "stdout",
     "output_type": "stream",
     "text": [
      "[[1 2]\n",
      " [3 4]\n",
      " [5 6]\n",
      " [7 8]]\n",
      "[[1 2 5 6]\n",
      " [3 4 7 8]]\n",
      "[[1 2]\n",
      " [3 4]\n",
      " [5 6]\n",
      " [7 8]]\n"
     ]
    }
   ],
   "source": [
    "a = np.array([[1, 2], [3, 4]])\n",
    "b = np.array([[5, 6], [7, 8]])\n",
    "\n",
    "print(np.vstack((a, b)))   # vertical stack (4 rows)\n",
    "print(np.hstack((a, b)))   # horizontal stack (4 columns)\n",
    "print(np.concatenate((a, b), axis=0))  # same as vstack\n"
   ]
  },
  {
   "cell_type": "code",
   "execution_count": 8,
   "id": "a06989da",
   "metadata": {},
   "outputs": [
    {
     "name": "stdout",
     "output_type": "stream",
     "text": [
      "[[11 22 33]\n",
      " [14 25 36]]\n"
     ]
    }
   ],
   "source": [
    "a = np.array([[1, 2, 3], [4, 5, 6]])\n",
    "b = np.array([10, 20, 30])\n",
    "\n",
    "print(a + b)\n"
   ]
  },
  {
   "cell_type": "code",
   "execution_count": 9,
   "id": "6670997b",
   "metadata": {},
   "outputs": [
    {
     "name": "stdout",
     "output_type": "stream",
     "text": [
      "[30 40 50]\n",
      "[10 20 99 99 99]\n"
     ]
    }
   ],
   "source": [
    "arr = np.array([10, 20, 30, 40, 50])\n",
    "\n",
    "# Get all elements greater than 25\n",
    "print(arr[arr > 25])\n",
    "\n",
    "# Replace values\n",
    "arr[arr > 25] = 99\n",
    "print(arr)\n"
   ]
  },
  {
   "cell_type": "code",
   "execution_count": null,
   "id": "5ff650b7",
   "metadata": {
    "vscode": {
     "languageId": "r"
    }
   },
   "outputs": [
    {
     "name": "stdout",
     "output_type": "stream",
     "text": [
      "[0.37454012 0.95071431 0.73199394]\n",
      "[4 6 9 2 6]\n",
      "[[ 1.57921282  0.76743473 -0.46947439]\n",
      " [ 0.54256004 -0.46341769 -0.46572975]]\n"
     ]
    }
   ],
   "source": [
    "np.random.seed(42)                # reproducible results\n",
    "\n",
    "print(np.random.rand(3))          # 3 random floats [0,1)\n",
    "print(np.random.randint(0, 10, 5))  # 5 random integers [0,10)\n",
    "\n",
    "# Random normal distribution\n",
    "print(np.random.normal(loc=0, scale=1, size=(2, 3))) # loc = mean, scale = std dev, size = shape of matrix\n"
   ]
  },
  {
   "cell_type": "markdown",
   "id": "b80f4b4b",
   "metadata": {},
   "source": [
    "argmax gives the index of max value in array"
   ]
  },
  {
   "cell_type": "markdown",
   "id": "37597696",
   "metadata": {},
   "source": [
    "argmin gives the index of min value in array"
   ]
  },
  {
   "cell_type": "code",
   "execution_count": 11,
   "id": "ab9cedf2",
   "metadata": {},
   "outputs": [
    {
     "name": "stdout",
     "output_type": "stream",
     "text": [
      "3\n",
      "2\n"
     ]
    }
   ],
   "source": [
    "arr = np.array([10, 20, 5, 40])\n",
    "print(np.argmax(arr))  # index of max → 3\n",
    "print(np.argmin(arr))  # index of min → 2\n"
   ]
  },
  {
   "cell_type": "markdown",
   "id": "aa79fa39",
   "metadata": {},
   "source": [
    "basic dot product\n"
   ]
  },
  {
   "cell_type": "code",
   "execution_count": 12,
   "id": "2342c71d",
   "metadata": {},
   "outputs": [
    {
     "name": "stdout",
     "output_type": "stream",
     "text": [
      "[[19 22]\n",
      " [43 50]]\n",
      "[[19 22]\n",
      " [43 50]]\n"
     ]
    }
   ],
   "source": [
    "A = np.array([[1, 2], [3, 4]])\n",
    "B = np.array([[5, 6], [7, 8]])\n",
    "\n",
    "print(np.dot(A, B))     # matrix multiplication\n",
    "print(A @ B)            # same as dot product\n"
   ]
  }
 ],
 "metadata": {
  "kernelspec": {
   "display_name": "Python 3",
   "language": "python",
   "name": "python3"
  },
  "language_info": {
   "codemirror_mode": {
    "name": "ipython",
    "version": 3
   },
   "file_extension": ".py",
   "mimetype": "text/x-python",
   "name": "python",
   "nbconvert_exporter": "python",
   "pygments_lexer": "ipython3",
   "version": "3.12.3"
  }
 },
 "nbformat": 4,
 "nbformat_minor": 5
}
