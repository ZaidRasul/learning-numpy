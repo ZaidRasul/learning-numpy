{
 "cells": [
  {
   "cell_type": "markdown",
   "id": "45786d64",
   "metadata": {},
   "source": [
    "# A file for functions  of pandas library\n",
    "(Note: These are all simple implementations)"
   ]
  },
  {
   "cell_type": "markdown",
   "id": "69a0b9b7",
   "metadata": {},
   "source": [
    "File loading"
   ]
  },
  {
   "cell_type": "code",
   "execution_count": 24,
   "id": "3c7461bc",
   "metadata": {},
   "outputs": [],
   "source": [
    "import pandas as pd\n",
    "\n",
    "data = pd.read_csv('magic04.data')\n",
    "data = pd.DataFrame(data)\n",
    "# can also read a excel file as :\n",
    "# pd.read_excel('magic04.xlsx')\n",
    "\n"
   ]
  },
  {
   "cell_type": "markdown",
   "id": "a85efeba",
   "metadata": {},
   "source": [
    "DataFrame"
   ]
  },
  {
   "cell_type": "code",
   "execution_count": 25,
   "id": "3769bda9",
   "metadata": {},
   "outputs": [
    {
     "name": "stdout",
     "output_type": "stream",
     "text": [
      "{'A': [1, 2, 3], 'B': [4, 5, 6], 'C': [7, 8, 9], 'D': [10, 11, 12]}\n",
      "comparison\n",
      "   A  B  C   D\n",
      "0  1  4  7  10\n",
      "1  2  5  8  11\n",
      "2  3  6  9  12\n"
     ]
    }
   ],
   "source": [
    "RandomData = {    'A': [1, 2, 3],\n",
    "    'B': [4, 5, 6],\n",
    "    'C': [7, 8, 9],\n",
    "    'D': [10, 11, 12]\n",
    "}\n",
    "print(RandomData)\n",
    "print(\"comparison\")\n",
    "df = pd.DataFrame(RandomData) # properly formatted DataFrame\n",
    "print(df)\n",
    "df.to_csv('output.csv')  # Save DataFrame to CSV"
   ]
  },
  {
   "cell_type": "markdown",
   "id": "d4e8838c",
   "metadata": {},
   "source": [
    "Viewing data"
   ]
  },
  {
   "cell_type": "code",
   "execution_count": 26,
   "id": "01d0388f",
   "metadata": {},
   "outputs": [
    {
     "name": "stdout",
     "output_type": "stream",
     "text": [
      "\n",
      "\n",
      "\n",
      "\n",
      "DataFrame Information:\n",
      "<class 'pandas.core.frame.DataFrame'>\n",
      "RangeIndex: 19019 entries, 0 to 19018\n",
      "Data columns (total 11 columns):\n",
      " #   Column   Non-Null Count  Dtype  \n",
      "---  ------   --------------  -----  \n",
      " 0   28.7967  19019 non-null  float64\n",
      " 1   16.0021  19019 non-null  float64\n",
      " 2   2.6449   19019 non-null  float64\n",
      " 3   0.3918   19019 non-null  float64\n",
      " 4   0.1982   19019 non-null  float64\n",
      " 5   27.7004  19019 non-null  float64\n",
      " 6   22.011   19019 non-null  float64\n",
      " 7   -8.2027  19019 non-null  float64\n",
      " 8   40.092   19019 non-null  float64\n",
      " 9   81.8828  19019 non-null  float64\n",
      " 10  g        19019 non-null  object \n",
      "dtypes: float64(10), object(1)\n",
      "memory usage: 1.6+ MB\n",
      "\n",
      "DataFrame Shape:\n",
      "(19019, 11)\n"
     ]
    },
    {
     "data": {
      "text/plain": [
       "Index(['28.7967', '16.0021', '2.6449', '0.3918', '0.1982', '27.7004', '22.011',\n",
       "       '-8.2027', '40.092', '81.8828', 'g'],\n",
       "      dtype='object')"
      ]
     },
     "execution_count": 26,
     "metadata": {},
     "output_type": "execute_result"
    }
   ],
   "source": [
    "data.head(5) # Display first 5 rows of the DataFrame\n",
    "print(\"\\n\")\n",
    "data.tail(5) # Display last 5 rows of the DataFrame\n",
    "print(\"\\n\")\n",
    "print(\"DataFrame Information:\")\n",
    "data.info() # all the info about data in csv\n",
    "print(\"\\nDataFrame Shape:\")\n",
    "print(data.shape) # no. of rows and columns\n",
    "data.columns # Display column names\n"
   ]
  },
  {
   "cell_type": "markdown",
   "id": "31e085bc",
   "metadata": {},
   "source": [
    "Selecting data"
   ]
  },
  {
   "cell_type": "code",
   "execution_count": null,
   "id": "876fe03a",
   "metadata": {},
   "outputs": [
    {
     "name": "stdout",
     "output_type": "stream",
     "text": [
      "   A  B  C   D\n",
      "0  1  4  7  10\n",
      "1  2  5  8  11\n",
      "2  3  6  9  12\n"
     ]
    }
   ],
   "source": [
    "# selecting and displaying specific columns\n",
    "#df['A']  # Display column 'A'\n",
    "#df['B']\n",
    "#we can use index to look for specific rows\n",
    "print(df.iloc[0])  # Display first row\n",
    "df.loc[0] \n",
    "\n",
    "# row and column slicing by index\n",
    "print(df.iloc[0:4, 0:6])  # Display first 4 rows and first 5 columns\n",
    "#print(df.iloc[0:2, 1])  # Display first two rows of column 'B'\n"
   ]
  },
  {
   "cell_type": "code",
   "execution_count": null,
   "id": "264a8215",
   "metadata": {},
   "outputs": [],
   "source": []
  }
 ],
 "metadata": {
  "kernelspec": {
   "display_name": "Python 3",
   "language": "python",
   "name": "python3"
  },
  "language_info": {
   "codemirror_mode": {
    "name": "ipython",
    "version": 3
   },
   "file_extension": ".py",
   "mimetype": "text/x-python",
   "name": "python",
   "nbconvert_exporter": "python",
   "pygments_lexer": "ipython3",
   "version": "3.12.3"
  }
 },
 "nbformat": 4,
 "nbformat_minor": 5
}
