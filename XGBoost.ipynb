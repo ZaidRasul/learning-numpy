{
 "cells": [
  {
   "cell_type": "markdown",
   "id": "fd0d7a63",
   "metadata": {},
   "source": [
    "Bank marketing dateset taken from UCI  \n",
    "Link : https://archive.ics.uci.edu/dataset/222/bank+marketing  \n"
   ]
  },
  {
   "cell_type": "markdown",
   "id": "4d9b2d88",
   "metadata": {},
   "source": [
    "The data is related with direct marketing campaigns of a Portuguese banking institution. The marketing campaigns were based on phone calls. Often, more than one contact to the same client was required, in order to access if the product (bank term deposit) would be ('yes') or not ('no') subscribed. \n",
    "The classification goal is to predict if the client will subscribe (yes/no) a term deposit (variable y).\n",
    "\n"
   ]
  }
 ],
 "metadata": {
  "language_info": {
   "name": "python"
  }
 },
 "nbformat": 4,
 "nbformat_minor": 5
}
