{
 "cells": [
  {
   "cell_type": "markdown",
   "id": "fd0d7a63",
   "metadata": {},
   "source": [
    "Bank marketing dateset taken from UCI  \n",
    "Link : https://archive.ics.uci.edu/dataset/222/bank+marketing  \n"
   ]
  },
  {
   "cell_type": "markdown",
   "id": "4d9b2d88",
   "metadata": {},
   "source": [
    "The data is related with direct marketing campaigns of a Portuguese banking institution. The marketing campaigns were based on phone calls. Often, more than one contact to the same client was required, in order to access if the product (bank term deposit) would be ('yes') or not ('no') subscribed. \n",
    "The classification goal is to predict if the client will subscribe (yes/no) a term deposit (variable y).\n",
    "\n"
   ]
  },
  {
   "cell_type": "code",
   "execution_count": 1,
   "id": "4e9098ea",
   "metadata": {},
   "outputs": [],
   "source": [
    "import pandas as pd\n",
    "\n",
    "df = pd.read_csv('bank-additional-full.csv', delimiter=';')"
   ]
  },
  {
   "cell_type": "code",
   "execution_count": 2,
   "id": "5368de6c",
   "metadata": {},
   "outputs": [],
   "source": [
    "#dropping columns that might be less related to desired output\n",
    "drop_columns = [ 'duration','emp.var.rate', 'cons.price.idx', 'cons.conf.idx', 'euribor3m', 'nr.employed']\n",
    "#rename columns for better understanding\n",
    "df = df.rename(columns={'job': 'job_type', 'default': 'default_status',\n",
    "                                                   'housing': 'housing_loan_status', 'loan': 'personal_loan_status',\n",
    "                                                   'contact': 'contact_type', 'month': 'contact_month',\n",
    "                                                   'day_of_week': 'contact_day_of_week', 'campaign': 'num_contacts',\n",
    "                                                   'pdays': 'days_last_contact', 'previous': 'previous_contacts',\n",
    "                                                   'poutcome': 'previous_outcome',\n",
    "                                                   'y': 'result'\n",
    "                                                    })\n",
    "# Drop the specified columns\n",
    "df = df.drop(columns=drop_columns, errors='ignore')\n",
    "#convert target to numerical values\n",
    "#specify the column and map its distinct values to numerical values\n",
    "df['result'] = df['result'].map({'yes':1, 'no':0})"
   ]
  }
 ],
 "metadata": {
  "kernelspec": {
   "display_name": "Python 3",
   "language": "python",
   "name": "python3"
  },
  "language_info": {
   "codemirror_mode": {
    "name": "ipython",
    "version": 3
   },
   "file_extension": ".py",
   "mimetype": "text/x-python",
   "name": "python",
   "nbconvert_exporter": "python",
   "pygments_lexer": "ipython3",
   "version": "3.12.3"
  }
 },
 "nbformat": 4,
 "nbformat_minor": 5
}
